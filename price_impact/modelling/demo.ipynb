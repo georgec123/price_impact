{
 "cells": [
  {
   "attachments": {},
   "cell_type": "markdown",
   "metadata": {},
   "source": [
    "## 1. Problem Setup\n",
    "\n",
    "$$\n",
    "S_t = S_0 + \\int^t_0 G(t-s)f(\\dot x) ds + \\sigma \\int^t_0 dW_s\n",
    "$$\n",
    "$S_t$ - Stock price\n",
    "\n",
    "$G(t-s)$ - Decay kernel - eg     $e^{-\\beta (t-s)}, (t-s)^{-\\beta} $\n",
    "\n",
    "$\\dot{x}(s)$ - Speed of trading\n",
    "\n",
    "$f(\\dot{x}(s))$ - Impact function, eg. $\\lambda \\sqrt{\\dot{x}(s)}$, or more generally $\\lambda_s sign(\\dot{x}) |\\dot{x}|^{\\delta} $\n",
    "\n",
    "\n"
   ]
  },
  {
   "attachments": {},
   "cell_type": "markdown",
   "metadata": {},
   "source": [
    "## 2. Discretisation\n",
    "$$ I_t = \\mathbb{E}[S_t - S_0] = \\int^t_0 G(t-s)f(\\dot{x}(s)).ds $$\n",
    "\n",
    "\n",
    "Assuming $G(t-s) = e^{-\\beta (t-s)}$, we translate this into a discrete time recursive equation\n",
    "\n",
    "$$ \\Delta I_n = -\\beta I_{n-1} \\Delta t + f(\\Delta Q_n) $$\n",
    "$\\Delta Q_n $ is the ammount traded\n",
    "\n",
    "We then compute \n",
    "\n",
    "\\begin{equation}\n",
    "I_n = (1-\\beta \\Delta t )I_{n-1} + \\lambda _n \\sigma f(\\frac{\\Delta Q_n}{ADV})  \\tag{1}\n",
    "\\end{equation}\n",
    "\n",
    "\n",
    "\n",
    "add cts -> discreet eqn for integral "
   ]
  },
  {
   "cell_type": "markdown",
   "metadata": {},
   "source": [
    "# 3. Regression\n",
    "- We compute the impact ([1](#mjx-eqn-eq1))  using $ \\lambda =1$\n",
    "- We then regress $ \\Delta P_n = \\lambda \\Delta I_n $ for each hour\n",
    "- we do this over a grid space for $f(x) = \\lambda sgn(x) |x|^{\\delta} $ for $ \\delta \\in [0.1, 0.15, 0.2, ..., 0.7]\n",
    "$"
   ]
  },
  {
   "cell_type": "markdown",
   "metadata": {},
   "source": [
    "# 4. Volume scheduling\n",
    "\n",
    "\n",
    "### Optimal execution\n",
    "\n",
    "Total cost of a trading strategy compared to the baseline of $X S_0$\n",
    "$$ C = \\int^{T^*}_0 \\dot{x}(t) (S_t - S_0) dt $$\n",
    "Trader looks to minimise the cost caused by his strategy\n",
    "$$\n",
    "\\min\\limits_{\\dot{x}, T^*}  \\mathbb{E} \\left[ C \\right]  = \\min\\limits_{\\dot{x}, T^*}  \\int^{T^*}_0 \\dot{x}(t) \\int^t_0 G(t-s)f(\\dot x)ds dt $$\n",
    "$$ \\textnormal{Subject to }  \\int^{T^*}_0 \\dot{x}(t)dt = X  $$\n",
    "\n",
    "\n",
    "### Optimal execution with alpha\n",
    "Similarly, if the trader has an alpha signal, which may decay over the day, the trader wants to maximise the amount of alpha captured. \n",
    "$$\n",
    "\\max \\limits_{\\dot{x}, T^*}   \\mathbb{E} \\int^{T^*}_0 \\dot{x}(t) (\\alpha_t - I_t) dt = \\min \\limits_{\\dot{x}, T^*}   \\mathbb{E} \\int^{T^*}_0 \\dot{x}(t) (I_t-\\alpha_t) dt \n",
    "$$\n",
    "$$ \\textnormal{Subject to }  \\int^{T^*}_0 \\dot{x}(t)dt = X  $$\n"
   ]
  }
 ],
 "metadata": {
  "kernelspec": {
   "display_name": "39",
   "language": "python",
   "name": "python3"
  },
  "language_info": {
   "codemirror_mode": {
    "name": "ipython",
    "version": 3
   },
   "file_extension": ".py",
   "mimetype": "text/x-python",
   "name": "python",
   "nbconvert_exporter": "python",
   "pygments_lexer": "ipython3",
   "version": "3.9.7"
  },
  "orig_nbformat": 4
 },
 "nbformat": 4,
 "nbformat_minor": 2
}
